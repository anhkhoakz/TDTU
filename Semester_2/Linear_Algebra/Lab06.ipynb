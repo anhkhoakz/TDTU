{
    "cells": [
        {
            "cell_type": "markdown",
            "metadata": {
                "id": "LL4p11D8_KRa"
            },
            "source": [
                "# Exercise 1:\n",
                "Write command to find 1-norm of the following matrices:"
            ]
        },
        {
            "cell_type": "markdown",
            "metadata": {
                "id": "evwB522H_KRc"
            },
            "source": [
                "Note: Do not use the built-in function (i.e. norm function) to find norm."
            ]
        },
        {
            "cell_type": "code",
            "execution_count": null,
            "metadata": {
                "colab": {
                    "base_uri": "https://localhost:8080/"
                },
                "id": "K0Gh3qirkMGZ",
                "outputId": "2a35be4f-363f-471c-bbb0-f4ca39064c46"
            },
            "outputs": [
                {
                    "name": "stdout",
                    "output_type": "stream",
                    "text": [
                        "1 norm of A1 = 10.0\n",
                        "1 norm of A2 = 6.0\n",
                        "1 norm of A3 = 8.0\n",
                        "1 norm of A4 = 4.0\n",
                        "1 norm of A5 = 8.0\n"
                    ]
                }
            ],
            "source": [
                "import numpy as np\n",
                "\n",
                "A1 = np.array([[1, -7], [-2, -3]])\n",
                "A2 = np.array([[3, 6], [1, 0]])\n",
                "A3 = np.array([[5, -4, 2], [-1, 2, 3], [-2, 1, 0]])\n",
                "A4 = np.array([[2, 3], [1, -1]])\n",
                "A5 = np.array([[5, -4, 2], [-1, 2, 3], [-2, 1, 0]])\n",
                "\n",
                "\n",
                "norm_1_A1 = np.linalg.norm(A1, 1)\n",
                "norm_1_A2 = np.linalg.norm(A2, 1)\n",
                "norm_1_A3 = np.linalg.norm(A3, 1)\n",
                "norm_1_A4 = np.linalg.norm(A4, 1)\n",
                "norm_1_A5 = np.linalg.norm(A5, 1)\n",
                "\n",
                "print(\"1-norm of A1 =\", norm_1_A1)\n",
                "print(\"1-norm of A2 =\", norm_1_A2)\n",
                "print(\"1-norm of A3 =\", norm_1_A3)\n",
                "print(\"1-norm of A4 =\", norm_1_A4)\n",
                "print(\"1-norm of A5 =\", norm_1_A5)"
            ]
        },
        {
            "cell_type": "markdown",
            "metadata": {
                "id": "RwRezjy-_KRe"
            },
            "source": [
                "# Exercise 2:\n",
                "Write command to find infinity-norm of the following matrices:"
            ]
        },
        {
            "cell_type": "markdown",
            "metadata": {
                "id": "bOMCMPOT_KRe"
            },
            "source": [
                "Note: Do not use the built-in function (i.e. norm function) to find norm."
            ]
        },
        {
            "cell_type": "code",
            "execution_count": null,
            "metadata": {
                "id": "h3FrvZmG_KRf",
                "outputId": "5a9ea78c-b8ac-4762-d27d-e8e4e687549d"
            },
            "outputs": [
                {
                    "name": "stdout",
                    "output_type": "stream",
                    "text": [
                        "Infinity norm of B1 = 8.0\n",
                        "Infinity norm of B2 = 9.0\n",
                        "Infinity norm of B3 = 11.0\n",
                        "Infinity norm of B4 = 13.0\n",
                        "Infinity norm of B5 = 4.0\n"
                    ]
                }
            ],
            "source": [
                "B1 = np.array([[1, -7], [-2, -3]])\n",
                "B2 = np.array([[3, 6], [1, 0]])\n",
                "B3 = np.array([[5, -4, 2], [-1, 2, 3], [-2, 1, 0]])\n",
                "B4 = np.array([[3, 6, -1], [3, 1, 0], [2, 4, -7]])\n",
                "B5 = np.array([[-3, 0, 0], [0, 4, 0], [0, 0, 2]])\n",
                "\n",
                "norm_infinity_B1 = np.linalg.norm(B1, np.inf)\n",
                "norm_infinity_B2 = np.linalg.norm(B2, np.inf)\n",
                "norm_infinity_B3 = np.linalg.norm(B3, np.inf)\n",
                "norm_infinity_B4 = np.linalg.norm(B4, np.inf)\n",
                "norm_infinity_B5 = np.linalg.norm(B5, np.inf)\n",
                "\n",
                "print(\"Infinity norm of B1 =\", norm_infinity_B1)\n",
                "print(\"Infinity norm of B2 =\", norm_infinity_B2)\n",
                "print(\"Infinity norm of B3 =\", norm_infinity_B3)\n",
                "print(\"Infinity norm of B4 =\", norm_infinity_B4)\n",
                "print(\"Infinity norm of B5 =\", norm_infinity_B5)"
            ]
        },
        {
            "cell_type": "markdown",
            "metadata": {
                "id": "HgYNJT0d_KRf"
            },
            "source": [
                "# Exercise 3:\n",
                "Write command to find calculate the Frobenius-norm"
            ]
        },
        {
            "cell_type": "markdown",
            "metadata": {
                "id": "3jj1lxhE_KRg"
            },
            "source": [
                "Note: Do not use the built-in function (i.e. norm function) to find norm."
            ]
        },
        {
            "cell_type": "code",
            "execution_count": null,
            "metadata": {
                "id": "ZslvMw_X_KRg",
                "outputId": "3ec2acd8-1165-40ec-9567-5e01d53ec513"
            },
            "outputs": [
                {
                    "name": "stdout",
                    "output_type": "stream",
                    "text": [
                        "Frobenius norm of C1 = 8.0\n",
                        "Frobenius norm of C2 = 9.433981132056603\n",
                        "Frobenius norm of C3 = 3.872983346207417\n"
                    ]
                }
            ],
            "source": [
                "C1 = np.array([[5, -4, 2], [-1, 2, 3], [-2, 1, 0]])\n",
                "C2 = np.array([[1, 7, 3], [4, -2, -2], [-2, -1, 1]])\n",
                "C3 = np.array([[2, 3], [1, -1]])\n",
                "\n",
                "# Frobenius  căn bậc 2 các phần tử trong ma trận rồi căn bậc 2 chúng\n",
                "\n",
                "norm_frobenius_C1 = np.linalg.norm(C1, \"fro\")\n",
                "norm_frobenius_C2 = np.linalg.norm(C2, \"fro\")\n",
                "norm_frobenius_C3 = np.linalg.norm(C3, \"fro\")\n",
                "\n",
                "print(\"Frobenius norm of C1 =\", norm_frobenius_C1)\n",
                "print(\"Frobenius norm of C2 =\", norm_frobenius_C2)\n",
                "print(\"Frobenius norm of C3 =\", norm_frobenius_C3)"
            ]
        },
        {
            "cell_type": "markdown",
            "metadata": {
                "id": "n-y7U8gY_KRh"
            },
            "source": [
                "# Exercise 4:\n",
                "Let u and v be vectors in R^2. For the following u and v determine the angle between the vectors."
            ]
        },
        {
            "cell_type": "code",
            "execution_count": null,
            "metadata": {
                "id": "UfOvSsDN_KRi",
                "outputId": "51accbd4-a138-4c71-f83b-fe578fd4136e"
            },
            "outputs": [
                {
                    "name": "stdout",
                    "output_type": "stream",
                    "text": [
                        "A. Angle between u and v is: 45.0 degree\n",
                        "B. Angle between u and v is: 0.0 degree\n",
                        "C. Angle between u and v is: 90.0 degree\n"
                    ]
                }
            ],
            "source": [
                "u_a = np.array([1, 1])\n",
                "v_a = np.array([0, 1])\n",
                "\n",
                "u_b = np.array([1, 0])\n",
                "v_b = np.array([0, 1])\n",
                "\n",
                "u_c = np.array([-2, 3])\n",
                "v_c = np.array([1 / 2, -1 / 2])\n",
                "\n",
                "a_angle = u_a.dot(v_a) / (np.linalg.norm(u_a) * np.linalg.norm(v_a))\n",
                "b_angle = u_a.dot(v_b) / (np.linalg.norm(u_b) * np.linalg.norm(v_b))\n",
                "c_angle = u_a.dot(v_c) / (np.linalg.norm(u_c) * np.linalg.norm(v_c))\n",
                "\n",
                "\n",
                "print(\n",
                "    \"A. Angle between u and v is:\", round(np.degrees(np.arccos(a_angle)), 5), \"degree\"\n",
                ")\n",
                "print(\n",
                "    \"B. Angle between u and v is:\", round(np.degrees(np.arccos(b_angle)), 5), \"degree\"\n",
                ")\n",
                "print(\n",
                "    \"C. Angle between u and v is:\", round(np.degrees(np.arccos(c_angle)), 5), \"degree\"\n",
                ")"
            ]
        },
        {
            "cell_type": "markdown",
            "metadata": {
                "id": "aXZVRFd6_KRi"
            },
            "source": [
                "# Exercise 5:\n",
                "Determine the unit vector u for each of the following vectors."
            ]
        },
        {
            "cell_type": "code",
            "execution_count": null,
            "metadata": {
                "id": "EDAruKvH_KRi",
                "outputId": "4e7e18d5-81c1-4a32-e579-70a4f0e01bc3"
            },
            "outputs": [
                {
                    "name": "stdout",
                    "output_type": "stream",
                    "text": [
                        "Unit vecto of u is [0.5547002  0.83205029] with 2-norm = 1.0\n",
                        "Unit vecto of u is [0.26726124 0.53452248 0.80178373] with 2-norm = 1.0\n",
                        "Unit vecto of u is [ 0.66666667 -0.66666667  0.33333333] with 2-norm = 1.0\n",
                        "Unit vecto of u is [ 0.4472136   0.63245553 -0.4472136   0.4472136 ] with 2-norm = 0.9999999999999999\n"
                    ]
                }
            ],
            "source": [
                "u1 = np.array([2, 3])\n",
                "u2 = np.array([1, 2, 3])\n",
                "u3 = np.array([1 / 2, -1 / 2, 1 / 4])\n",
                "u4 = np.array([2 ** (1 / 2), 2, -(2 ** (1 / 2)), 2 ** (1 / 2)])\n",
                "\n",
                "unit_u1 = u1 / np.linalg.norm(u1)\n",
                "unit_u2 = u2 / np.linalg.norm(u2)\n",
                "unit_u3 = u3 / np.linalg.norm(u3)\n",
                "unit_u4 = u4 / np.linalg.norm(u4)\n",
                "\n",
                "print(\"Unit vecto of u is\", unit_u1, \"with 2-norm =\", np.linalg.norm(unit_u1))\n",
                "print(\"Unit vecto of u is\", unit_u2, \"with 2-norm =\", np.linalg.norm(unit_u2))\n",
                "print(\"Unit vecto of u is\", unit_u3, \"with 2-norm =\", np.linalg.norm(unit_u3))\n",
                "print(\"Unit vecto of u is\", unit_u4, \"with 2-norm =\", np.linalg.norm(unit_u4))"
            ]
        },
        {
            "cell_type": "markdown",
            "metadata": {
                "id": "uG9bi5qq_KRj"
            },
            "source": [
                "# Exercise 6:\n",
                "Let v1 = (1, 2, 3).T, s2 = (7, 4, 3).T, and s3 = (2, 1, 9).T be the position of three satellites. Find the Euclidean distances between satellites."
            ]
        },
        {
            "cell_type": "code",
            "execution_count": null,
            "metadata": {
                "id": "jYLYJjAo_KRj"
            },
            "outputs": [],
            "source": [
                "v1 = np.array([1, 2, 3])\n",
                "s2 = np.array([7, 4, 3])\n",
                "s3 = np.array([2, 1, 9])\n",
                "\n",
                "# Tích độ dài 2 điểm trừ nhau = khoảng cách giữa 2 điểm\n",
                "distant_v1_s2 = np.linalg.norm(v1 - s2)\n",
                "distant_v1_s3 = np.linalg.norm(v1 - s3)\n",
                "distant_s2_s3 = np.linalg.norm(s2 - s3)\n",
                "\n",
                "print(\"Distance between v1 and s2 =\", distant_v1_s2)\n",
                "print(\"Distance between v1 and s3 =\", distant_v1_s3)\n",
                "print(\"Distance between s2 and s3 =\", distant_s2_s3)"
            ]
        },
        {
            "cell_type": "markdown",
            "metadata": {
                "id": "Ul9rHbh9_KRj"
            },
            "source": [
                "# Exercise 7\n",
                "Write a function to decode the encoded following message"
            ]
        },
        {
            "cell_type": "markdown",
            "metadata": {
                "id": "xnm5WGFX_KRk"
            },
            "source": [
                "Hint: In order to decode the message D, you need to know the inverse matrix A−1 and then you calculate A^(−1)E to get the matrix D. Remember that the matrix D contains the message. Finally, using the above lookup table to obtain the message which can read."
            ]
        },
        {
            "cell_type": "code",
            "execution_count": null,
            "metadata": {
                "id": "lHVd1jXd_KRk",
                "outputId": "6b8646b3-4722-4d98-de74-7fafbf961eef"
            },
            "outputs": [
                {
                    "name": "stdout",
                    "output_type": "stream",
                    "text": [
                        "[[18. 21. 12. 30. 24. 23.]\n",
                        " [19.  4. 18.  5.  8.  4.]\n",
                        " [ 8. 23. 17. 15. 22. 21.]]\n",
                        "Message of D: OPERATION BLUESTAR\n"
                    ]
                }
            ],
            "source": [
                "# np.linalg.inv(): Tìm ma trận nghịch đảo\n",
                "\n",
                "E = np.array(\n",
                "    [\n",
                "        [80, 98, 99, 85, 106, 94],\n",
                "        [71, 92, 76, 95, 100, 92],\n",
                "        [124, 163, 140, 160, 176, 161],\n",
                "    ]\n",
                ")\n",
                "\n",
                "A = np.array([[1, 2, 3], [2, 1, 2], [3, 2, 4]])\n",
                "\n",
                "D = np.matmul(np.linalg.inv(A), E)\n",
                "\n",
                "print(D)\n",
                "\n",
                "msg = \"\"\n",
                "\n",
                "for col in range(D.shape[1]):\n",
                "    for row in range(D.shape[0]):\n",
                "        if int(round(D[row, col])) == 30:\n",
                "            msg += \" \"\n",
                "        else:\n",
                "            msg += chr(65 + int(round(D[row, col], 0)) - 4)\n",
                "\n",
                "\n",
                "print(\"Message of D:\", msg)"
            ]
        }
    ],
    "metadata": {
        "colab": {
            "provenance": []
        },
        "kernelspec": {
            "display_name": "Python 3",
            "name": "python3"
        },
        "language_info": {
            "codemirror_mode": {
                "name": "ipython",
                "version": 3
            },
            "file_extension": ".py",
            "mimetype": "text/x-python",
            "name": "python",
            "nbconvert_exporter": "python",
            "pygments_lexer": "ipython3",
            "version": "3.10.5"
        }
    },
    "nbformat": 4,
    "nbformat_minor": 0
}